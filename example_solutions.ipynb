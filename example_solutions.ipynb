{
 "cells": [
  {
   "cell_type": "markdown",
   "metadata": {},
   "source": [
    "## CMA-ES Bézier Vessel Routing Examples\n",
    "\n",
    "Example of fuel minimization problem for **constant speed-through-water**, taken from [1] (section 3).\n",
    "\n",
    "    [1] S. J. Ferraro, D. M. de Diego, and R. T. Sato Martín de Almagro: \"Parallel iterative methods for variational integration applied to navigation problems\" (https://www.sciencedirect.com/science/article/pii/S2405896321021212)"
   ]
  },
  {
   "cell_type": "code",
   "execution_count": 1,
   "metadata": {},
   "outputs": [
    {
     "name": "stdout",
     "output_type": "stream",
     "text": [
      "(100_w,200)-aCMA-ES (mu_w=52.6,w_1=4%) in dimension 12 (seed=515406, Fri Sep 27 16:49:50 2024)\n",
      "Iterat #Fevals   function value  axis ratio  sigma  min&max std  t[m:s]\n",
      "    1    200 1.248852676901260e+01 1.0e+00 6.17e+00  5e+00  6e+00 0:00.0\n",
      "    2    400 1.090956236197931e+01 1.4e+00 6.85e+00  5e+00  7e+00 0:00.0\n",
      "    3    600 1.147468828607661e+01 1.8e+00 7.46e+00  5e+00  8e+00 0:00.0\n",
      "   27   5400 8.955354086316325e+00 3.2e+01 3.70e+00  2e-01  2e+00 0:00.4\n",
      "Optimization time: 0.3767127990722656\n",
      "Fuel cost: 8.954508538924793\n"
     ]
    }
   ],
   "source": [
    "import numpy as np\n",
    "import method\n",
    "\n",
    "def u(x, y):\n",
    "    def R(a, b):\n",
    "        return 1 / (3 * ((x - a) ** 2 + (y - b) ** 2) + 1) * -(y - b)\n",
    "\n",
    "    return 1.7 * (-R(2, 2) - R(4, 4) - R(2, 5) + R(5, 1))\n",
    "\n",
    "def v(x, y):\n",
    "    def R(a, b):\n",
    "        return 1 / (3 * ((x - a) ** 2 + (y - b) ** 2) + 1) * (x - a)\n",
    "\n",
    "    return 1.7 * (-R(2, 2) - R(4, 4) - R(2, 5) + R(5, 1))\n",
    "\n",
    "src = np.array([0, 0])\n",
    "dst = np.array([6, 2])\n",
    "\n",
    "curve = method.optimize(\n",
    "    u=u, v=v, src=src, dst=dst, travel_speed=1, travel_time=None, tolfun=1e-1\n",
    ")"
   ]
  },
  {
   "cell_type": "markdown",
   "metadata": {},
   "source": [
    "Example of fuel minimization problem for **fixed travel time** and variable speed-through-water [1] (section 4)."
   ]
  },
  {
   "cell_type": "code",
   "execution_count": 2,
   "metadata": {},
   "outputs": [
    {
     "name": "stdout",
     "output_type": "stream",
     "text": [
      "(100_w,200)-aCMA-ES (mu_w=52.6,w_1=4%) in dimension 12 (seed=595156, Fri Sep 27 16:49:50 2024)\n",
      "Iterat #Fevals   function value  axis ratio  sigma  min&max std  t[m:s]\n",
      "    1    200 2.284583802106993e+01 1.0e+00 9.09e+00  8e+00  9e+00 0:00.0\n",
      "    2    400 2.291142596595879e+01 1.5e+00 9.43e+00  8e+00  1e+01 0:00.0\n"
     ]
    },
    {
     "name": "stdout",
     "output_type": "stream",
     "text": [
      "    3    600 1.649315916924798e+01 2.0e+00 9.46e+00  7e+00  1e+01 0:00.0\n",
      "   62  12400 4.423869478053563e+00 2.2e+02 1.34e+01  2e-01  2e+00 0:00.9\n",
      "Optimization time: 0.9001455307006836\n",
      "Fuel cost: 4.423869478053563\n"
     ]
    }
   ],
   "source": [
    "def u(x, y):\n",
    "    return np.cos(2 * x - y - 6)\n",
    "\n",
    "def v(x, y):\n",
    "    return 2 / 3 * np.sin(y) + x - 3\n",
    "\n",
    "src = np.array([0, 0])\n",
    "dst = np.array([6, 5])\n",
    "\n",
    "curve = method.optimize(\n",
    "    u=u, v=v, src=src, dst=dst, travel_speed=None, travel_time=30, tolfun=1e-1\n",
    ")\n"
   ]
  }
 ],
 "metadata": {
  "kernelspec": {
   "display_name": "Python 3",
   "language": "python",
   "name": "python3"
  },
  "language_info": {
   "codemirror_mode": {
    "name": "ipython",
    "version": 3
   },
   "file_extension": ".py",
   "mimetype": "text/x-python",
   "name": "python",
   "nbconvert_exporter": "python",
   "pygments_lexer": "ipython3",
   "version": "3.10.12"
  }
 },
 "nbformat": 4,
 "nbformat_minor": 2
}
